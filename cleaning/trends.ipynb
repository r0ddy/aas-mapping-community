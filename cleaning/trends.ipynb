{
 "cells": [
  {
   "cell_type": "code",
   "execution_count": 2,
   "metadata": {},
   "outputs": [],
   "source": [
    "import pandas as pd\n",
    "import re\n",
    "dt = pd.read_csv('../output/deduped_people.csv')"
   ]
  },
  {
   "cell_type": "code",
   "execution_count": 3,
   "metadata": {},
   "outputs": [],
   "source": [
    "has_birth_year = dt[pd.notna(dt[\"Birth Year:\"])]\n",
    "\n",
    "def get_year(val):\n",
    "    return re.sub(\"[^0-9]\", \"\", val)[:4]\n",
    "\n",
    "birth_years = has_birth_year[\"Birth Year:\"].map(get_year)\n",
    "birth_years.to_csv(\"../output/years.csv\", index=False)\n"
   ]
  },
  {
   "cell_type": "code",
   "execution_count": 12,
   "metadata": {},
   "outputs": [],
   "source": [
    "has_birthplace = dt[pd.notna(dt[\"Birthplace:\"])]\n",
    "birthplaces = has_birthplace[\"Birthplace:\"]\n",
    "def clean_birthplace(val):\n",
    "    new_val = val.strip('\\\"').replace('[', '').replace(']', '')\n",
    "    if new_val == \"Philippine Island\\nPhilippines\":\n",
    "        return \"Philippines\"\n",
    "    return new_val\n",
    "birthplaces.map(clean_birthplace).value_counts().to_csv(\"../output/birthplace.csv\")"
   ]
  },
  {
   "cell_type": "code",
   "execution_count": 34,
   "metadata": {},
   "outputs": [
    {
     "name": "stdout",
     "output_type": "stream",
     "text": [
      "0                   Laundry\n",
      "1                   Laundry\n",
      "18             Truck Family\n",
      "19          Asiatie Gardens\n",
      "21           Asiatie Garden\n",
      "23           Asistie Garden\n",
      "33                  Laundry\n",
      "34                  Laundry\n",
      "59              Farm Bureau\n",
      "60        Agri Cornell Univ\n",
      "69              Fruit Store\n",
      "79              Real estate\n",
      "82               Restaurant\n",
      "83               Restaurant\n",
      "103    Phipies Cornell Univ\n",
      "Name: Industry:, dtype: object\n",
      "0                                      Employer\n",
      "1                         Wage or salary worker\n",
      "18        Wage or salary worker in private work\n",
      "19                                     Employer\n",
      "21                                     Employer\n",
      "23        Wage or salary worker in private work\n",
      "27        Wage or salary worker in private work\n",
      "33        Wage or salary worker in private work\n",
      "34        Wage or salary worker in private work\n",
      "59                        Wage or salary worker\n",
      "60                        Wage or salary worker\n",
      "69                        Wage or salary worker\n",
      "76     Wage or salary worker in Government work\n",
      "79                       Working on own account\n",
      "82                        Wage or salary worker\n",
      "83                        Wage or salary worker\n",
      "84                                     Employer\n",
      "103                       Wage or salary worker\n",
      "Name: Class of Worker:, dtype: object\n"
     ]
    }
   ],
   "source": [
    "# Work Columns \n",
    "# Occupation:, Employment:, Industry:, Class of Worker:\n",
    "has_work = dt[pd.notna(dt[\"Occupation:\"])]\n",
    "\n",
    "def get_occupation(val):\n",
    "    low_val = val.lower()\n",
    "    if \"laundry\" in low_val:\n",
    "        return \"Laundry Worker\"\n",
    "    elif \"house\" in low_val:\n",
    "        return \"Housekeeper\"\n",
    "    elif \"assistant\" in low_val or \"secretary\" in low_val:\n",
    "        return \"Assistant\"\n",
    "    elif low_val == \"realetor\":\n",
    "        return \"Realtor\"\n",
    "    elif low_val == \"Dist Washer\":\n",
    "        return \"Dish Washer\"\n",
    "    return val\n",
    "has_work[\"Occupation:\"].map(get_occupation).value_counts().to_csv(\"../output/occup.csv\")\n",
    "\n",
    "# this col has almost no values so don't use\n",
    "is_employed = dt[pd.notna(dt[\"Employment:\"])]\n",
    "\n",
    "has_industry = dt[pd.notna(dt[\"Industry:\"])]\n",
    "print(has_industry[\"Industry:\"])\n",
    "\n",
    "class_of_worker = dt[pd.notna(dt[\"Class of Worker:\"])]\n",
    "print(class_of_worker[\"Class of Worker:\"])"
   ]
  },
  {
   "cell_type": "code",
   "execution_count": null,
   "metadata": {},
   "outputs": [],
   "source": [
    "\n",
    "# Education Columns\n",
    "# Attended School or College:, Highest Grade Completed:, Attended School:, Able to Read and Write:, "
   ]
  }
 ],
 "metadata": {
  "interpreter": {
   "hash": "b0fa6594d8f4cbf19f97940f81e996739fb7646882a419484c72d19e05852a7e"
  },
  "kernelspec": {
   "display_name": "Python 3.9.12 64-bit",
   "language": "python",
   "name": "python3"
  },
  "language_info": {
   "codemirror_mode": {
    "name": "ipython",
    "version": 3
   },
   "file_extension": ".py",
   "mimetype": "text/x-python",
   "name": "python",
   "nbconvert_exporter": "python",
   "pygments_lexer": "ipython3",
   "version": "3.9.12"
  },
  "orig_nbformat": 4
 },
 "nbformat": 4,
 "nbformat_minor": 2
}
