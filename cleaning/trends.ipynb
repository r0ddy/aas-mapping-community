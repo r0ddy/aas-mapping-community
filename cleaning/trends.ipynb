{
 "cells": [
  {
   "cell_type": "code",
   "execution_count": 10,
   "metadata": {},
   "outputs": [],
   "source": [
    "import pandas as pd\n",
    "dt = pd.read_csv('../output/people.csv')"
   ]
  },
  {
   "cell_type": "code",
   "execution_count": 17,
   "metadata": {},
   "outputs": [
    {
     "name": "stdout",
     "output_type": "stream",
     "text": [
      "0      1886\n",
      "1      1911\n",
      "2      1910\n",
      "3      1930\n",
      "4      1908\n",
      "       ... \n",
      "123    1915\n",
      "124    1903\n",
      "125    1906\n",
      "147    1907\n",
      "148    1903\n",
      "Name: Birth Year:, Length: 76, dtype: object\n"
     ]
    }
   ],
   "source": [
    "has_birth_year = dt[pd.notna(dt[\"Birth Year:\"])]\n",
    "\n",
    "def get_year(val):\n",
    "    import re\n",
    "    return re.sub(\"[^0-9]\", \"\", val)[:4]\n",
    "\n",
    "birth_years = has_birth_year[\"Birth Year:\"].map(get_year)\n",
    "print(birth_years)\n"
   ]
  }
 ],
 "metadata": {
  "interpreter": {
   "hash": "b0fa6594d8f4cbf19f97940f81e996739fb7646882a419484c72d19e05852a7e"
  },
  "kernelspec": {
   "display_name": "Python 3.9.12 64-bit",
   "language": "python",
   "name": "python3"
  },
  "language_info": {
   "codemirror_mode": {
    "name": "ipython",
    "version": 3
   },
   "file_extension": ".py",
   "mimetype": "text/x-python",
   "name": "python",
   "nbconvert_exporter": "python",
   "pygments_lexer": "ipython3",
   "version": "3.9.12"
  },
  "orig_nbformat": 4
 },
 "nbformat": 4,
 "nbformat_minor": 2
}
