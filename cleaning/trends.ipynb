{
 "cells": [
  {
   "cell_type": "code",
   "execution_count": 2,
   "metadata": {},
   "outputs": [],
   "source": [
    "import pandas as pd\n",
    "import re\n",
    "dt = pd.read_csv('../output/deduped_people.csv')"
   ]
  },
  {
   "cell_type": "code",
   "execution_count": 3,
   "metadata": {},
   "outputs": [],
   "source": [
    "has_birth_year = dt[pd.notna(dt[\"Birth Year:\"])]\n",
    "\n",
    "def get_year(val):\n",
    "    return re.sub(\"[^0-9]\", \"\", val)[:4]\n",
    "\n",
    "birth_years = has_birth_year[\"Birth Year:\"].map(get_year)\n",
    "birth_years.to_csv(\"../output/years.csv\", index=False)\n"
   ]
  },
  {
   "cell_type": "code",
   "execution_count": 11,
   "metadata": {},
   "outputs": [],
   "source": [
    "has_birthplace = dt[pd.notna(dt[\"Birthplace:\"])]\n",
    "birthplaces = has_birthplace[\"Birthplace:\"]\n",
    "def clean_birthplace(val):\n",
    "    new_val = val.strip('\\\"').replace('[', '').replace(']', '')\n",
    "    if new_val == \"Philippine Island\\nPhilippines\":\n",
    "        return \"Philippines\"\n",
    "    return new_val\n",
    "birthplaces.map(clean_birthplace).value_counts().to_csv(\"../output/birthplace.csv\")"
   ]
  }
 ],
 "metadata": {
  "interpreter": {
   "hash": "b0fa6594d8f4cbf19f97940f81e996739fb7646882a419484c72d19e05852a7e"
  },
  "kernelspec": {
   "display_name": "Python 3.9.12 64-bit",
   "language": "python",
   "name": "python3"
  },
  "language_info": {
   "codemirror_mode": {
    "name": "ipython",
    "version": 3
   },
   "file_extension": ".py",
   "mimetype": "text/x-python",
   "name": "python",
   "nbconvert_exporter": "python",
   "pygments_lexer": "ipython3",
   "version": "3.9.12"
  },
  "orig_nbformat": 4
 },
 "nbformat": 4,
 "nbformat_minor": 2
}
