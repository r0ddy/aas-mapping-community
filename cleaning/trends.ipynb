{
 "cells": [
  {
   "cell_type": "code",
   "execution_count": 2,
   "metadata": {},
   "outputs": [],
   "source": [
    "import pandas as pd\n",
    "import re\n",
    "dt = pd.read_csv('../output/deduped_people.csv')"
   ]
  },
  {
   "cell_type": "code",
   "execution_count": 3,
   "metadata": {},
   "outputs": [],
   "source": [
    "has_birth_year = dt[pd.notna(dt[\"Birth Year:\"])]\n",
    "\n",
    "def get_year(val):\n",
    "    return re.sub(\"[^0-9]\", \"\", val)[:4]\n",
    "\n",
    "birth_years = has_birth_year[\"Birth Year:\"].map(get_year)\n",
    "birth_years.to_csv(\"../output/years.csv\", index=False)\n"
   ]
  },
  {
   "cell_type": "code",
   "execution_count": 12,
   "metadata": {},
   "outputs": [],
   "source": [
    "has_birthplace = dt[pd.notna(dt[\"Birthplace:\"])]\n",
    "birthplaces = has_birthplace[\"Birthplace:\"]\n",
    "def clean_birthplace(val):\n",
    "    new_val = val.strip('\\\"').replace('[', '').replace(']', '')\n",
    "    if new_val == \"Philippine Island\\nPhilippines\":\n",
    "        return \"Philippines\"\n",
    "    return new_val\n",
    "birthplaces.map(clean_birthplace).value_counts().to_csv(\"../output/birthplace.csv\")"
   ]
  },
  {
   "cell_type": "code",
   "execution_count": 36,
   "metadata": {},
   "outputs": [
    {
     "name": "stdout",
     "output_type": "stream",
     "text": [
      "0                   Laundry\n",
      "1                   Laundry\n",
      "18             Truck Family\n",
      "19          Asiatie Gardens\n",
      "21           Asiatie Garden\n",
      "23           Asistie Garden\n",
      "33                  Laundry\n",
      "34                  Laundry\n",
      "59              Farm Bureau\n",
      "60        Agri Cornell Univ\n",
      "69              Fruit Store\n",
      "79              Real estate\n",
      "82               Restaurant\n",
      "83               Restaurant\n",
      "103    Phipies Cornell Univ\n",
      "Name: Industry:, dtype: object\n",
      "0                                      Employer\n",
      "1                         Wage or salary worker\n",
      "18        Wage or salary worker in private work\n",
      "19                                     Employer\n",
      "21                                     Employer\n",
      "23        Wage or salary worker in private work\n",
      "27        Wage or salary worker in private work\n",
      "33        Wage or salary worker in private work\n",
      "34        Wage or salary worker in private work\n",
      "59                        Wage or salary worker\n",
      "60                        Wage or salary worker\n",
      "69                        Wage or salary worker\n",
      "76     Wage or salary worker in Government work\n",
      "79                       Working on own account\n",
      "82                        Wage or salary worker\n",
      "83                        Wage or salary worker\n",
      "84                                     Employer\n",
      "103                       Wage or salary worker\n",
      "Name: Class of Worker:, dtype: object\n"
     ]
    }
   ],
   "source": [
    "# Work Columns \n",
    "# Occupation:, Employment:, Industry:, Class of Worker:\n",
    "has_work = dt[pd.notna(dt[\"Occupation:\"])]\n",
    "\n",
    "def get_occupation(val):\n",
    "    low_val = val.lower()\n",
    "    if \"laundry\" in low_val:\n",
    "        return \"Laundry Worker\"\n",
    "    elif \"house\" in low_val:\n",
    "        return \"Housekeeper\"\n",
    "    elif \"assistant\" in low_val or \"secretary\" in low_val:\n",
    "        return \"Assistant\"\n",
    "    elif low_val == \"realetor\":\n",
    "        return \"Realtor\"\n",
    "    elif low_val == \"dist washer\":\n",
    "        return \"Dish Washer\"\n",
    "    return val\n",
    "has_work[\"Occupation:\"].map(get_occupation).value_counts().to_csv(\"../output/occup.csv\")"
   ]
  },
  {
   "cell_type": "code",
   "execution_count": 53,
   "metadata": {},
   "outputs": [
    {
     "name": "stdout",
     "output_type": "stream",
     "text": [
      "0                                      Employer\n",
      "1                         Wage or salary worker\n",
      "18        Wage or salary worker in private work\n",
      "19                                     Employer\n",
      "21                                     Employer\n",
      "23        Wage or salary worker in private work\n",
      "27        Wage or salary worker in private work\n",
      "33        Wage or salary worker in private work\n",
      "34        Wage or salary worker in private work\n",
      "59                        Wage or salary worker\n",
      "60                        Wage or salary worker\n",
      "69                        Wage or salary worker\n",
      "76     Wage or salary worker in Government work\n",
      "79                       Working on own account\n",
      "82                        Wage or salary worker\n",
      "83                        Wage or salary worker\n",
      "84                                     Employer\n",
      "103                       Wage or salary worker\n",
      "Name: Class of Worker:, dtype: object\n"
     ]
    }
   ],
   "source": [
    "\n",
    "# this col has almost no values so don't use\n",
    "is_employed = dt[pd.notna(dt[\"Employment:\"])]\n",
    "\n",
    "has_industry = dt[pd.notna(dt[\"Industry:\"])]\n",
    "def get_industry(val):\n",
    "    if \"Truck\" in val:\n",
    "        return \"Trucking\"\n",
    "    if \"Garden\" in val or \"Farm\" in val:\n",
    "        return \"Agriculture\"\n",
    "    if \"Cornell\" in val:\n",
    "        return \"Cornell\"\n",
    "    if \"estate\" in val:\n",
    "        return \"Real Estate\"\n",
    "    if \"Fruit\" in val:\n",
    "        return \"Restaurant\"\n",
    "    return val\n",
    "has_industry[\"Industry:\"].map(get_industry).value_counts().to_csv('../output/industry.csv')\n"
   ]
  },
  {
   "cell_type": "code",
   "execution_count": 55,
   "metadata": {},
   "outputs": [],
   "source": [
    "\n",
    "class_of_worker = dt[pd.notna(dt[\"Class of Worker:\"])]\n",
    "def get_class_of_worker(val):\n",
    "    if val in [\"Working on own account\", \"Employer\"]:\n",
    "        return \"Self Employed\"\n",
    "    if \"private\" in val:\n",
    "        return \"Private Sector\"\n",
    "    if \"Government\" in val:\n",
    "        return \"Public Sector\"\n",
    "    return \"Private Sector\"\n",
    "class_of_worker[\"Class of Worker:\"].map(get_class_of_worker).value_counts().to_csv(\"../output/class_of_worker.csv\")"
   ]
  },
  {
   "cell_type": "code",
   "execution_count": 107,
   "metadata": {},
   "outputs": [],
   "source": [
    "# Education Columns\n",
    "# Attended School or College:, Highest Grade Completed:, Attended School:, Able to Read and Write:\n",
    "has_school = dt[(dt[\"Attended School:\"] != None) & (dt[\"Attended School or College:\"] != None)]\n",
    "def does_row_have_school(row):\n",
    "    return 'Yes' if row['Attended School:'] == 'Yes' or row['Attended School or College:'] == 'Yes' else 'No'\n",
    "has_school['School'] = has_school.apply(does_row_have_school, axis=1)\n",
    "has_school['School'].value_counts().to_csv('../output/has_attended_school_or_college.csv')"
   ]
  },
  {
   "cell_type": "code",
   "execution_count": 113,
   "metadata": {},
   "outputs": [
    {
     "name": "stdout",
     "output_type": "stream",
     "text": [
      "None\n"
     ]
    }
   ],
   "source": [
    "is_educated = has_school[\"School\"] == 'Yes'\n",
    "print(has_school[is_educated][\"Gender:\"].value_counts().to_csv('../output/school_by_gender.csv'))"
   ]
  },
  {
   "cell_type": "code",
   "execution_count": 114,
   "metadata": {},
   "outputs": [
    {
     "name": "stdout",
     "output_type": "stream",
     "text": [
      "None\n"
     ]
    }
   ],
   "source": [
    "too_cool_for_school = has_school[\"School\"] == 'No'\n",
    "print(has_school[too_cool_for_school][\"Gender:\"].value_counts().to_csv('../output/no_school_by_gender.csv'))"
   ]
  },
  {
   "cell_type": "code",
   "execution_count": 120,
   "metadata": {},
   "outputs": [
    {
     "name": "stdout",
     "output_type": "stream",
     "text": [
      "Chinese\n",
      "Chinese\n",
      "Chinese\n",
      "Chinese\n",
      "Chinese\n",
      "Chinese\n",
      "Chinese\n",
      "Chinese\n",
      "Chinese\n",
      "Chinese\n",
      "Chinese\n",
      "Chinese\n",
      "Chinese\n",
      "Chinese\n",
      "Chinese\n",
      "Chinese\n",
      "Chinese\n",
      "Chinese\n",
      "Chinese\n",
      "[Negro (Black)]\n",
      "Chinese\n",
      "Chinese\n",
      "Chinese\n",
      "Chinese\n",
      "Chinese\n",
      "Chinese\n",
      "Chinese\n",
      "Chinese\n",
      "Chinese\n",
      "Chinese\n",
      "Chinese\n",
      "Chinese\n",
      "Chinese\n",
      "Chinese\n",
      "Chinese\n",
      "Chinese\n",
      "Chinese\n",
      "Chinese\n",
      "Chinese\n",
      "Chinese\n",
      "[Cortino]\n",
      "Chinese\n",
      "Chinese\n",
      "Chinese\n",
      "Chinese\n",
      "Chinese\n",
      "Chinese\n",
      "Chinese\n",
      "Chinese\n",
      "Chinese\n",
      "Chinese\n",
      "Chinese\n",
      "Chinese\n",
      "Chinese\n",
      "Chinese\n",
      "Chinese\n",
      "Chinese\n",
      "Chinese\n",
      "Chinese\n",
      "Chinese\n",
      "Japanese\n",
      "Japanese\n",
      "Japanese\n",
      "Japanese\n",
      "Japanese\n",
      "Japanese\n",
      "Japanese\n",
      "Japanese\n",
      "Japanese\n",
      "Japanese\n",
      "Japanese\n",
      "Japanese\n",
      "Japanese\n",
      "Japanese\n",
      "Japanese\n",
      "Japanese\n",
      "Japanese\n",
      "Japanese\n",
      "Japanese\n",
      "Filipino\n",
      "Filipino\n",
      "Filipino\n",
      "Filipino\n",
      "Filipino\n",
      "Filipino\n",
      "Filipino\n",
      "Filipino\n",
      "Filipino\n",
      "Filipino\n",
      "[Thai]\n",
      "Filipino\n",
      "Filipino\n",
      "Filipino\n",
      "Thai\n",
      "Thai\n",
      "Thai\n",
      "Thai\n",
      "Thai\n",
      "Thai\n",
      "Thai\n",
      "Thai\n",
      "[Asian]\n",
      "Thai\n",
      "Thai\n",
      "Thai\n",
      "Hindu (East Indian)\n",
      "Hindu (East Indian)\n",
      "Hindu (East Indian)\n",
      "Hindu (East Indian)\n",
      "Hindu (East Indian)\n",
      "Hindu (East Indian)\n",
      "Hindu (East Indian)\n",
      "None\n"
     ]
    },
    {
     "name": "stderr",
     "output_type": "stream",
     "text": [
      "/var/folders/m7/0yw66_c50mlg___sdwggnxjh0000gn/T/ipykernel_11234/1821162338.py:13: SettingWithCopyWarning: \n",
      "A value is trying to be set on a copy of a slice from a DataFrame.\n",
      "Try using .loc[row_indexer,col_indexer] = value instead\n",
      "\n",
      "See the caveats in the documentation: https://pandas.pydata.org/pandas-docs/stable/user_guide/indexing.html#returning-a-view-versus-a-copy\n",
      "  has_race_and_school['Better Race'] = has_race_and_school['Race:'].map(get_race)\n",
      "/var/folders/m7/0yw66_c50mlg___sdwggnxjh0000gn/T/ipykernel_11234/1821162338.py:14: UserWarning: Boolean Series key will be reindexed to match DataFrame index.\n",
      "  print(has_race_and_school[is_educated][\"Better Race\"].value_counts().to_csv(\"../output/school_by_race.csv\"))\n"
     ]
    }
   ],
   "source": [
    "def get_race(val):\n",
    "    print(val)\n",
    "    if \"Chinese\" in val:\n",
    "        return \"Chinese\"\n",
    "    if \"Hindu\" in val:\n",
    "        return \"Indian\"\n",
    "    if \"Filipino\" in val:\n",
    "        return \"Filipino\"\n",
    "    if \"Thai\" in val:\n",
    "        return \"Thai\"\n",
    "    return val\n",
    "has_race_and_school = has_school[pd.notna(has_school['Race:'])]\n",
    "has_race_and_school['Better Race'] = has_race_and_school['Race:'].map(get_race)\n",
    "print(has_race_and_school[is_educated][\"Better Race\"].value_counts().to_csv(\"../output/school_by_race.csv\"))"
   ]
  },
  {
   "cell_type": "code",
   "execution_count": 121,
   "metadata": {},
   "outputs": [
    {
     "name": "stderr",
     "output_type": "stream",
     "text": [
      "/var/folders/m7/0yw66_c50mlg___sdwggnxjh0000gn/T/ipykernel_11234/2036924749.py:1: UserWarning: Boolean Series key will be reindexed to match DataFrame index.\n",
      "  has_race_and_school[too_cool_for_school]['Better Race'].value_counts().to_csv(\"../output/no_school_by_race.csv\")\n"
     ]
    }
   ],
   "source": [
    "has_race_and_school[too_cool_for_school]['Better Race'].value_counts().to_csv(\"../output/no_school_by_race.csv\")"
   ]
  },
  {
   "cell_type": "code",
   "execution_count": 105,
   "metadata": {},
   "outputs": [
    {
     "name": "stdout",
     "output_type": "stream",
     "text": [
      "Yes    83\n",
      "No     26\n",
      "Name: School, dtype: int64\n"
     ]
    }
   ],
   "source": []
  }
 ],
 "metadata": {
  "interpreter": {
   "hash": "b0fa6594d8f4cbf19f97940f81e996739fb7646882a419484c72d19e05852a7e"
  },
  "kernelspec": {
   "display_name": "Python 3.9.12 64-bit",
   "language": "python",
   "name": "python3"
  },
  "language_info": {
   "codemirror_mode": {
    "name": "ipython",
    "version": 3
   },
   "file_extension": ".py",
   "mimetype": "text/x-python",
   "name": "python",
   "nbconvert_exporter": "python",
   "pygments_lexer": "ipython3",
   "version": "3.9.12"
  },
  "orig_nbformat": 4
 },
 "nbformat": 4,
 "nbformat_minor": 2
}
