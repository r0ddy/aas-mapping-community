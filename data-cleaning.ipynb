{
 "cells": [
  {
   "cell_type": "code",
   "execution_count": 65,
   "metadata": {},
   "outputs": [],
   "source": [
    "import pandas as pd\n",
    "df = pd.read_csv('people.csv')"
   ]
  },
  {
   "cell_type": "markdown",
   "metadata": {},
   "source": [
    "First, we will try to piece together addresses.\n",
    "We can create the address by concatenating 'House Number' and 'Street'."
   ]
  },
  {
   "cell_type": "code",
   "execution_count": 87,
   "metadata": {},
   "outputs": [
    {
     "name": "stdout",
     "output_type": "stream",
     "text": [
      "18     119 E Buffalo Street Ithaca, NY 14850\n",
      "19             110 N Aurora Ithaca, NY 14850\n",
      "38     119 E Buffalo Street Ithaca, NY 14850\n",
      "39             110 N Aurora Ithaca, NY 14850\n",
      "40             110 N Aurora Ithaca, NY 14850\n",
      "                       ...                  \n",
      "149         319 Dryden Road Ithaca, NY 14850\n",
      "150         319 Dryden Road Ithaca, NY 14850\n",
      "151       301 Bryant Avenue Ithaca, NY 14850\n",
      "152       301 Bryant Avenue Ithaca, NY 14850\n",
      "153       301 Bryant Avenue Ithaca, NY 14850\n",
      "Name: House Number:, Length: 69, dtype: object\n"
     ]
    }
   ],
   "source": [
    "has_addr = df[pd.notna(df['Street:'])]\n",
    "has_addr = has_addr[pd.notna(has_addr['House Number:'])]\n",
    "has_addr['House Number:'] = has_addr['House Number:'].astype(int)\n",
    "has_addr['House Number:'] = has_addr['House Number:'].astype(str)\n",
    "addr = has_addr['House Number:'].str.cat(has_addr['Street:'], sep=' ') + ' Ithaca, NY 14850'\n",
    "print(addr)"
   ]
  },
  {
   "cell_type": "markdown",
   "metadata": {},
   "source": [
    "Next, we will run the GMaps Geocoding API to get place IDs for each address."
   ]
  },
  {
   "cell_type": "code",
   "execution_count": 99,
   "metadata": {},
   "outputs": [
    {
     "name": "stdout",
     "output_type": "stream",
     "text": [
      "(18, '119 E Buffalo Street Ithaca, NY 14850')\n"
     ]
    }
   ],
   "source": [
    "%reload_ext dotenv\n",
    "%dotenv\n",
    "import googlemaps\n",
    "import os\n",
    "\n",
    "gmaps_api_key = os.environ.get('GMAPS_API_KEY')\n",
    "gmaps = googlemaps.Client(key=gmaps_api_key)\n",
    "\n",
    "addrs = list(addr.iteritems())\n",
    "print(addrs[0])"
   ]
  },
  {
   "cell_type": "code",
   "execution_count": 102,
   "metadata": {},
   "outputs": [
    {
     "name": "stdout",
     "output_type": "stream",
     "text": [
      "119 E Buffalo Street Ithaca, NY 14850\n",
      "[{'address_components': [{'long_name': '119', 'short_name': '119', 'types': ['street_number']}, {'long_name': 'East Buffalo Street', 'short_name': 'E Buffalo St', 'types': ['route']}, {'long_name': 'Downtown', 'short_name': 'Downtown', 'types': ['neighborhood', 'political']}, {'long_name': 'Ithaca', 'short_name': 'Ithaca', 'types': ['locality', 'political']}, {'long_name': 'Tompkins County', 'short_name': 'Tompkins County', 'types': ['administrative_area_level_2', 'political']}, {'long_name': 'New York', 'short_name': 'NY', 'types': ['administrative_area_level_1', 'political']}, {'long_name': 'United States', 'short_name': 'US', 'types': ['country', 'political']}, {'long_name': '14850', 'short_name': '14850', 'types': ['postal_code']}, {'long_name': '4287', 'short_name': '4287', 'types': ['postal_code_suffix']}], 'formatted_address': '119 E Buffalo St, Ithaca, NY 14850, USA', 'geometry': {'location': {'lat': 42.4411844, 'lng': -76.4978987}, 'location_type': 'ROOFTOP', 'viewport': {'northeast': {'lat': 42.4426137302915, 'lng': -76.4965538197085}, 'southwest': {'lat': 42.4399157697085, 'lng': -76.4992517802915}}}, 'place_id': 'ChIJ-cF3uZyB0IkREE3PIwgz0fU', 'plus_code': {'compound_code': 'CGR2+FR Ithaca, NY', 'global_code': '87J5CGR2+FR'}, 'types': ['street_address']}]\n"
     ]
    }
   ],
   "source": [
    "id, full_addr = addrs[0]\n",
    "print(full_addr)\n",
    "geocode_result = gmaps.geocode(full_addr)\n",
    "print(geocode_result)"
   ]
  },
  {
   "cell_type": "code",
   "execution_count": 105,
   "metadata": {},
   "outputs": [
    {
     "name": "stdout",
     "output_type": "stream",
     "text": [
      "ChIJ-cF3uZyB0IkREE3PIwgz0fU\n"
     ]
    }
   ],
   "source": [
    "print(geocode_result[0]['place_id'])"
   ]
  },
  {
   "cell_type": "code",
   "execution_count": 107,
   "metadata": {},
   "outputs": [],
   "source": [
    "def get_place_id(addr):\n",
    "    return gmaps.geocode(addr)[0]['place_id']\n",
    "place_ids = addr.map(get_place_id)"
   ]
  },
  {
   "cell_type": "code",
   "execution_count": 109,
   "metadata": {},
   "outputs": [],
   "source": [
    "pd.DataFrame(place_ids).to_csv('place_ids.csv')"
   ]
  }
 ],
 "metadata": {
  "interpreter": {
   "hash": "fa5efb4d0dcddd565a15d5346c7f46c7d7d4d7434a38d866efde07f60c52ce2f"
  },
  "kernelspec": {
   "display_name": "Python 3.8.9 ('venv': venv)",
   "language": "python",
   "name": "python3"
  },
  "language_info": {
   "codemirror_mode": {
    "name": "ipython",
    "version": 3
   },
   "file_extension": ".py",
   "mimetype": "text/x-python",
   "name": "python",
   "nbconvert_exporter": "python",
   "pygments_lexer": "ipython3",
   "version": "3.8.9"
  },
  "orig_nbformat": 4
 },
 "nbformat": 4,
 "nbformat_minor": 2
}
